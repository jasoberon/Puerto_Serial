{
  "nbformat": 4,
  "nbformat_minor": 0,
  "metadata": {
    "colab": {
      "name": "Untitled1.ipynb",
      "provenance": [],
      "authorship_tag": "ABX9TyNJQfRRzcdcUIdGkpmmsXzo",
      "include_colab_link": true
    },
    "kernelspec": {
      "name": "python3",
      "display_name": "Python 3"
    },
    "language_info": {
      "name": "python"
    }
  },
  "cells": [
    {
      "cell_type": "markdown",
      "metadata": {
        "id": "view-in-github",
        "colab_type": "text"
      },
      "source": [
        "<a href=\"https://colab.research.google.com/github/jasoberon/Puerto_Serial/blob/master/LectorSensores.ipynb\" target=\"_parent\"><img src=\"https://colab.research.google.com/assets/colab-badge.svg\" alt=\"Open In Colab\"/></a>"
      ]
    },
    {
      "cell_type": "code",
      "metadata": {
        "colab": {
          "base_uri": "https://localhost:8080/"
        },
        "id": "xA48CvKE0LDm",
        "outputId": "e83f289e-1185-4fa3-bdca-1b3b8b86c7e7"
      },
      "source": [
        "!pip install serial"
      ],
      "execution_count": 1,
      "outputs": [
        {
          "output_type": "stream",
          "text": [
            "Collecting serial\n",
            "  Downloading serial-0.0.97-py2.py3-none-any.whl (40 kB)\n",
            "\u001b[K     |████████████████████████████████| 40 kB 3.3 MB/s \n",
            "\u001b[?25hCollecting future>=0.17.1\n",
            "  Downloading future-0.18.2.tar.gz (829 kB)\n",
            "\u001b[K     |████████████████████████████████| 829 kB 8.7 MB/s \n",
            "\u001b[?25hRequirement already satisfied: pyyaml>=3.13 in /usr/local/lib/python3.7/dist-packages (from serial) (3.13)\n",
            "Collecting iso8601>=0.1.12\n",
            "  Downloading iso8601-0.1.16-py2.py3-none-any.whl (10 kB)\n",
            "Building wheels for collected packages: future\n",
            "  Building wheel for future (setup.py) ... \u001b[?25l\u001b[?25hdone\n",
            "  Created wheel for future: filename=future-0.18.2-py3-none-any.whl size=491070 sha256=0d7caaf417b1cd95b4fbe615f4be25042fe4c4ea11b74594b3696c7dd6e32c00\n",
            "  Stored in directory: /root/.cache/pip/wheels/56/b0/fe/4410d17b32f1f0c3cf54cdfb2bc04d7b4b8f4ae377e2229ba0\n",
            "Successfully built future\n",
            "Installing collected packages: iso8601, future, serial\n",
            "  Attempting uninstall: future\n",
            "    Found existing installation: future 0.16.0\n",
            "    Uninstalling future-0.16.0:\n",
            "      Successfully uninstalled future-0.16.0\n",
            "Successfully installed future-0.18.2 iso8601-0.1.16 serial-0.0.97\n"
          ],
          "name": "stdout"
        }
      ]
    },
    {
      "cell_type": "code",
      "metadata": {
        "colab": {
          "base_uri": "https://localhost:8080/",
          "height": 526
        },
        "id": "EQr6wcc-0ZZ4",
        "outputId": "6d29d5a6-0be4-4d44-cb93-67c7294c8d9c"
      },
      "source": [
        "import serial\n",
        "import time\n",
        "import collections\n",
        "import matplotlib.pyplot as plt\n",
        "import matplotlib.animation as animation\n",
        "from matplotlib.lines import Line2D\n",
        "import numpy as np\n",
        "\n",
        "\n",
        "def getSerialData(self,Samples,numData,serialConnection, lines):\n",
        "    for i in range(numData):\n",
        "        value  = float(serialConnection.readline().strip())  #Leer sensor / Read sensor\n",
        "        data[i].append(value) #Guarda lectura en la última posición / #Save reading in the end position\n",
        "        lines[i].set_data(range(Samples),data[i]) # Dibujar nueva linea / Drawn new line\n",
        "\n",
        "        \n",
        "serialPort = 'COM19' # Puerto serial arduino / Arduino serial port\n",
        "baudRate = 9600  # Baudios\n",
        "\n",
        "try:\n",
        "  serialConnection = serial.Serial(serialPort, baudRate) # Instanciar objeto Serial / Instance Serial Object\n",
        "except:\n",
        "  print('Cannot conect to the port')\n",
        "\n",
        "Samples = 50  #Muestras / Samples\n",
        "sampleTime = 150  #Tiempo de muestreo / Sample Time\n",
        "numData = 4\n",
        "\n",
        "\n",
        "# Limites de los ejes / Axis limit\n",
        "xmin = 0\n",
        "xmax = Samples\n",
        "ymin = [0, 0 , -50 ,0]\n",
        "ymax = [6, 6 , 50 , 100]\n",
        "lines = []\n",
        "data = []\n",
        "\n",
        "for i in range(numData):\n",
        "    data.append(collections.deque([0] * Samples, maxlen=Samples))\n",
        "    lines.append(Line2D([], [], color='blue'))\n",
        "  \n",
        "fig = plt.figure()# Crea una nueva figura #Create a new figure.\n",
        "ax1 = fig.add_subplot(2, 2, 1,xlim=(xmin, xmax), ylim=(ymin[0] , ymax[0]))\n",
        "ax1.title.set_text('First Plot')\n",
        "ax1.set_xlabel(\"Samples\")\n",
        "ax1.set_ylabel(\"Volts\")\n",
        "ax1.add_line(lines[0])\n",
        "\n",
        "ax2 = fig.add_subplot(2, 2, 2,xlim=(xmin, xmax), ylim=(ymin[1] , ymax[1]))\n",
        "ax2.title.set_text('Second Plot')\n",
        "ax2.set_xlabel(\"Samples\")\n",
        "ax2.set_ylabel(\"Volts\")\n",
        "ax2.add_line(lines[1])\n",
        "\n",
        "ax3 = fig.add_subplot(2, 2, 3,xlim=(xmin, xmax), ylim=(ymin[2] , ymax[2]))\n",
        "#ax3.title.set_text('Third Plot')\n",
        "ax3.set_xlabel(\"Samples\")\n",
        "ax3.set_ylabel(\"Temperature\")\n",
        "ax3.add_line(lines[2])\n",
        "\n",
        "ax4 = fig.add_subplot(2, 2, 4,xlim=(xmin, xmax), ylim=(ymin[3] , ymax[3]))\n",
        "#ax4.title.set_text('Fourth Plot')\n",
        "ax4.set_xlabel(\"Samples\")\n",
        "ax4.set_ylabel(\"Humidity\")\n",
        "ax4.add_line(lines[3])\n",
        "\n",
        "\n",
        "    \n",
        "anim = animation.FuncAnimation(fig,getSerialData, fargs=(Samples,numData,serialConnection,lines), interval=sampleTime)\n",
        "plt.show()\n",
        "\n",
        "serialConnection.close() # cerrar puerto serial/ close serial port"
      ],
      "execution_count": 2,
      "outputs": [
        {
          "output_type": "stream",
          "text": [
            "Cannot conect to the port\n"
          ],
          "name": "stdout"
        },
        {
          "output_type": "error",
          "ename": "NameError",
          "evalue": "ignored",
          "traceback": [
            "\u001b[0;31m---------------------------------------------------------------------------\u001b[0m",
            "\u001b[0;31mNameError\u001b[0m                                 Traceback (most recent call last)",
            "\u001b[0;32m<ipython-input-2-d779105028c8>\u001b[0m in \u001b[0;36m<module>\u001b[0;34m()\u001b[0m\n\u001b[1;32m     67\u001b[0m \u001b[0;34m\u001b[0m\u001b[0m\n\u001b[1;32m     68\u001b[0m \u001b[0;34m\u001b[0m\u001b[0m\n\u001b[0;32m---> 69\u001b[0;31m \u001b[0manim\u001b[0m \u001b[0;34m=\u001b[0m \u001b[0manimation\u001b[0m\u001b[0;34m.\u001b[0m\u001b[0mFuncAnimation\u001b[0m\u001b[0;34m(\u001b[0m\u001b[0mfig\u001b[0m\u001b[0;34m,\u001b[0m\u001b[0mgetSerialData\u001b[0m\u001b[0;34m,\u001b[0m \u001b[0mfargs\u001b[0m\u001b[0;34m=\u001b[0m\u001b[0;34m(\u001b[0m\u001b[0mSamples\u001b[0m\u001b[0;34m,\u001b[0m\u001b[0mnumData\u001b[0m\u001b[0;34m,\u001b[0m\u001b[0mserialConnection\u001b[0m\u001b[0;34m,\u001b[0m\u001b[0mlines\u001b[0m\u001b[0;34m)\u001b[0m\u001b[0;34m,\u001b[0m \u001b[0minterval\u001b[0m\u001b[0;34m=\u001b[0m\u001b[0msampleTime\u001b[0m\u001b[0;34m)\u001b[0m\u001b[0;34m\u001b[0m\u001b[0;34m\u001b[0m\u001b[0m\n\u001b[0m\u001b[1;32m     70\u001b[0m \u001b[0mplt\u001b[0m\u001b[0;34m.\u001b[0m\u001b[0mshow\u001b[0m\u001b[0;34m(\u001b[0m\u001b[0;34m)\u001b[0m\u001b[0;34m\u001b[0m\u001b[0;34m\u001b[0m\u001b[0m\n\u001b[1;32m     71\u001b[0m \u001b[0;34m\u001b[0m\u001b[0m\n",
            "\u001b[0;31mNameError\u001b[0m: name 'serialConnection' is not defined"
          ]
        },
        {
          "output_type": "display_data",
          "data": {
            "image/png": "[encoded data removed]",
            "text/plain": [
              "<Figure size 432x288 with 4 Axes>"
            ]
          },
          "metadata": {
            "tags": [],
            "needs_background": "light"
          }
        }
      ]
    }
  ]
}